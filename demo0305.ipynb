{
 "cells": [
  {
   "cell_type": "code",
   "execution_count": 1,
   "id": "9c9531f8",
   "metadata": {},
   "outputs": [
    {
     "name": "stdout",
     "output_type": "stream",
     "text": [
      "123\n"
     ]
    }
   ],
   "source": [
    "print(123)"
   ]
  },
  {
   "cell_type": "code",
   "execution_count": 2,
   "id": "946f3a08",
   "metadata": {},
   "outputs": [],
   "source": [
    "a = 1"
   ]
  },
  {
   "cell_type": "code",
   "execution_count": 3,
   "id": "754672a3",
   "metadata": {},
   "outputs": [
    {
     "name": "stdout",
     "output_type": "stream",
     "text": [
      "1\n"
     ]
    }
   ],
   "source": [
    "print(a)"
   ]
  },
  {
   "cell_type": "code",
   "execution_count": 5,
   "id": "74ac13f1",
   "metadata": {},
   "outputs": [],
   "source": [
    "b = 2"
   ]
  },
  {
   "cell_type": "markdown",
   "id": "ce654a6f",
   "metadata": {},
   "source": [
    "# This is a markdown\n",
    "## This is a markdown\n",
    "### This is a markdown"
   ]
  },
  {
   "cell_type": "code",
   "execution_count": null,
   "id": "5fe71933",
   "metadata": {},
   "outputs": [],
   "source": [
    "import requests\n",
    "from bs4 import BeautifulSoup\n",
    "\n",
    "headers = {\n",
    "    'User-Agent': 'Mozilla/5.0 (Windows NT 10.0; Win64; x64) AppleWebKit/537.36 (KHTML, like Gecko) Chrome/110.0.0.0 Safari/537.36'\n",
    "}\n",
    "\n",
    "url = 'https://www.ptt.cc/bbs/Gossiping/index.html'\n",
    "first_page_url = 'https://www.ptt.cc/ask/over18?from=%2Fbbs%2FGossiping%2Findex.html'\n",
    "over_18_url = 'https://www.ptt.cc/ask/over18'\n",
    "\n",
    "ss = requests.session()\n",
    "print(ss.cookies)\n",
    "\n",
    "ss.get(first_page_url, headers=headers)\n",
    "print(ss.cookies)\n",
    "\n",
    "data = {\n",
    "    \"from\": \"/bbs/Gossiping/index.html\",\n",
    "    \"yes\": \"yes\",\n",
    "}\n",
    "\n",
    "ss.post(over_18_url, headers=headers, data=data)\n",
    "print(ss.cookies)\n",
    "\n",
    "res = ss.get(url, headers=headers)\n",
    "print(res.text)\n"
   ]
  },
  {
   "cell_type": "code",
   "execution_count": null,
   "id": "0451d456",
   "metadata": {},
   "outputs": [],
   "source": []
  }
 ],
 "metadata": {
  "kernelspec": {
   "display_name": "Python 3 (ipykernel)",
   "language": "python",
   "name": "python3"
  },
  "language_info": {
   "codemirror_mode": {
    "name": "ipython",
    "version": 3
   },
   "file_extension": ".py",
   "mimetype": "text/x-python",
   "name": "python",
   "nbconvert_exporter": "python",
   "pygments_lexer": "ipython3",
   "version": "3.8.10"
  }
 },
 "nbformat": 4,
 "nbformat_minor": 5
}
