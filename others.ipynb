{
 "cells": [
  {
   "cell_type": "code",
   "execution_count": null,
   "id": "3e7c5afe",
   "metadata": {},
   "outputs": [],
   "source": [
    "import json\n",
    "import wordcloud\n",
    "import numpy as np\n",
    "import matplotlib.pyplot as plt\n",
    "from PIL import Image"
   ]
  },
  {
   "cell_type": "code",
   "execution_count": null,
   "id": "5589f164",
   "metadata": {},
   "outputs": [],
   "source": [
    "wordCountDict = json.load(open('wordCountDict.json', 'r'))"
   ]
  },
  {
   "cell_type": "code",
   "execution_count": null,
   "id": "d88eeb08",
   "metadata": {},
   "outputs": [],
   "source": [
    "wordCountDict"
   ]
  },
  {
   "cell_type": "code",
   "execution_count": null,
   "id": "e815cd00",
   "metadata": {},
   "outputs": [],
   "source": [
    "# 字體設定\n",
    "font_path = 'TaipeiSansTCBeta-Bold.ttf'\n",
    "# 圖片轉陣列\n",
    "mask = np.array(Image.open('taiwan.png'))\n",
    "\n",
    "wc = wordcloud.WordCloud(\n",
    "    background_color='white',\n",
    "    margin=2, # 文字間距\n",
    "    mask=mask, # 遮罩\n",
    "    font_path=font_path,\n",
    "    max_words=150, # 取多少文字在裡面\n",
    "    width=874, height=516, # 長寬解析度\n",
    ")\n",
    "# 生成文字雲\n",
    "wc.generate_from_frequencies(wordCountDict)\n",
    "\n",
    "wc.to_file('myWordCloud.png')\n",
    "\n",
    "plt.imshow(wc)\n"
   ]
  }
 ],
 "metadata": {
  "kernelspec": {
   "display_name": "Python 3 (ipykernel)",
   "language": "python",
   "name": "python3"
  },
  "language_info": {
   "codemirror_mode": {
    "name": "ipython",
    "version": 3
   },
   "file_extension": ".py",
   "mimetype": "text/x-python",
   "name": "python",
   "nbconvert_exporter": "python",
   "pygments_lexer": "ipython3",
   "version": "3.11.2"
  }
 },
 "nbformat": 4,
 "nbformat_minor": 5
}
