{
 "cells": [
  {
   "cell_type": "code",
   "execution_count": 6,
   "id": "c26f4e35",
   "metadata": {},
   "outputs": [],
   "source": [
    "import json"
   ]
  },
  {
   "cell_type": "code",
   "execution_count": 7,
   "id": "2f4e8e44",
   "metadata": {},
   "outputs": [],
   "source": [
    "test_dict = {\n",
    "    'test1': 'aaa',\n",
    "    'test2': [\n",
    "        123,\n",
    "        234,\n",
    "        345\n",
    "    ]\n",
    "}"
   ]
  },
  {
   "cell_type": "code",
   "execution_count": 8,
   "id": "b4b42bfa",
   "metadata": {},
   "outputs": [
    {
     "data": {
      "text/plain": [
       "'{\"test1\": \"aaa\", \"test2\": [123, 234, 345]}'"
      ]
     },
     "execution_count": 8,
     "metadata": {},
     "output_type": "execute_result"
    }
   ],
   "source": [
    "json.dumps(test_dict)"
   ]
  },
  {
   "cell_type": "code",
   "execution_count": 9,
   "id": "609c2d5d",
   "metadata": {},
   "outputs": [],
   "source": [
    "with open(\"./test_dumps.json\", \"w\", encoding=\"utf-8\") as f:\n",
    "    f.write(\n",
    "        json.dumps(test_dict)\n",
    "    )"
   ]
  },
  {
   "cell_type": "code",
   "execution_count": 13,
   "id": "0d11b48f",
   "metadata": {},
   "outputs": [],
   "source": [
    "f = open(\"./test_dump.json\", \"w\", encoding=\"utf-8\")\n",
    "json.dump(test_dict, f)\n",
    "f.close()"
   ]
  },
  {
   "cell_type": "code",
   "execution_count": 14,
   "id": "befe9d69",
   "metadata": {},
   "outputs": [],
   "source": [
    "file_name = \"./test_dump.json\""
   ]
  },
  {
   "cell_type": "code",
   "execution_count": 15,
   "id": "9c8f670f",
   "metadata": {},
   "outputs": [
    {
     "data": {
      "text/plain": [
       "{'test1': 'aaa', 'test2': [123, 234, 345]}"
      ]
     },
     "execution_count": 15,
     "metadata": {},
     "output_type": "execute_result"
    }
   ],
   "source": [
    "with open(file_name, \"r\", encoding=\"utf-8\") as f:\n",
    "    json_data = json.loads(\n",
    "        f.read()\n",
    "    )\n",
    "    \n",
    "json_data"
   ]
  },
  {
   "cell_type": "code",
   "execution_count": 16,
   "id": "1fc3de1b",
   "metadata": {},
   "outputs": [
    {
     "data": {
      "text/plain": [
       "{'test1': 'aaa', 'test2': [123, 234, 345]}"
      ]
     },
     "execution_count": 16,
     "metadata": {},
     "output_type": "execute_result"
    }
   ],
   "source": [
    "with open(file_name, \"r\", encoding=\"utf-8\") as f:\n",
    "    json_data = json.load(f)\n",
    "    \n",
    "json_data"
   ]
  },
  {
   "cell_type": "code",
   "execution_count": 17,
   "id": "e229ec76",
   "metadata": {},
   "outputs": [
    {
     "name": "stdout",
     "output_type": "stream",
     "text": [
      "{'test1': 'aaa', 'test2': [123, 234, 345]}\n"
     ]
    }
   ],
   "source": [
    "import pprint\n",
    "\n",
    "pprint.pprint(json_data)"
   ]
  },
  {
   "cell_type": "code",
   "execution_count": null,
   "id": "3e915d53",
   "metadata": {},
   "outputs": [],
   "source": []
  }
 ],
 "metadata": {
  "kernelspec": {
   "display_name": "Python 3 (ipykernel)",
   "language": "python",
   "name": "python3"
  },
  "language_info": {
   "codemirror_mode": {
    "name": "ipython",
    "version": 3
   },
   "file_extension": ".py",
   "mimetype": "text/x-python",
   "name": "python",
   "nbconvert_exporter": "python",
   "pygments_lexer": "ipython3",
   "version": "3.11.2"
  }
 },
 "nbformat": 4,
 "nbformat_minor": 5
}
